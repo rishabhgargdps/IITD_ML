{
 "cells": [
  {
   "cell_type": "code",
   "execution_count": 6,
   "metadata": {},
   "outputs": [],
   "source": [
    "# we extract the data from Experimental runs excel file\n",
    "import pandas as pd\n",
    "import numpy as np\n",
    "import matplotlib.pyplot as plt"
   ]
  },
  {
   "cell_type": "code",
   "execution_count": 7,
   "metadata": {},
   "outputs": [],
   "source": [
    "#preparation of the data for linear regression\n",
    "def read_preprocess2(file):\n",
    "    df = pd.read_excel(file)\n",
    "    pd.set_option('display.max_rows', 15)\n",
    "    df = df.iloc[72:85, :]\n",
    "    df.drop(df.columns[[0, 4, 8, 9, 10, 11, 12]], axis=1, inplace=True)\n",
    "    df.drop(df.loc[:, 'Unnamed: 13':'Unnamed: 15'].columns, axis = 1, inplace = True)\n",
    "    df.rename(columns={'RMS': 'Slope of the line'},inplace=True)\n",
    "    return df"
   ]
  },
  {
   "cell_type": "code",
   "execution_count": 9,
   "metadata": {},
   "outputs": [
    {
     "data": {
      "text/html": [
       "<div>\n",
       "<style scoped>\n",
       "    .dataframe tbody tr th:only-of-type {\n",
       "        vertical-align: middle;\n",
       "    }\n",
       "\n",
       "    .dataframe tbody tr th {\n",
       "        vertical-align: top;\n",
       "    }\n",
       "\n",
       "    .dataframe thead th {\n",
       "        text-align: right;\n",
       "    }\n",
       "</style>\n",
       "<table border=\"1\" class=\"dataframe\">\n",
       "  <thead>\n",
       "    <tr style=\"text-align: right;\">\n",
       "      <th></th>\n",
       "      <th>Cutting Speed (m/min)</th>\n",
       "      <th>Feed (mm/rec)</th>\n",
       "      <th>Depth of cut (mm)</th>\n",
       "      <th>RPM</th>\n",
       "      <th>Diameter(mm)</th>\n",
       "      <th>Slope of the line</th>\n",
       "    </tr>\n",
       "  </thead>\n",
       "  <tbody>\n",
       "    <tr>\n",
       "      <th>72</th>\n",
       "      <td>40.6</td>\n",
       "      <td>0.142</td>\n",
       "      <td>0.7</td>\n",
       "      <td>290.0</td>\n",
       "      <td>45.0</td>\n",
       "      <td>0.2912</td>\n",
       "    </tr>\n",
       "    <tr>\n",
       "      <th>73</th>\n",
       "      <td>45.0</td>\n",
       "      <td>0.166</td>\n",
       "      <td>0.3</td>\n",
       "      <td>290.0</td>\n",
       "      <td>50.0</td>\n",
       "      <td>0.1392</td>\n",
       "    </tr>\n",
       "    <tr>\n",
       "      <th>74</th>\n",
       "      <td>44.0</td>\n",
       "      <td>0.170</td>\n",
       "      <td>0.5</td>\n",
       "      <td>290.0</td>\n",
       "      <td>48.0</td>\n",
       "      <td>0.3458</td>\n",
       "    </tr>\n",
       "    <tr>\n",
       "      <th>75</th>\n",
       "      <td>55.0</td>\n",
       "      <td>0.142</td>\n",
       "      <td>0.5</td>\n",
       "      <td>290.0</td>\n",
       "      <td>60.0</td>\n",
       "      <td>0.1642</td>\n",
       "    </tr>\n",
       "    <tr>\n",
       "      <th>76</th>\n",
       "      <td>50.0</td>\n",
       "      <td>0.150</td>\n",
       "      <td>0.5</td>\n",
       "      <td>290.0</td>\n",
       "      <td>55.0</td>\n",
       "      <td>0.1449</td>\n",
       "    </tr>\n",
       "    <tr>\n",
       "      <th>77</th>\n",
       "      <td>44.0</td>\n",
       "      <td>0.142</td>\n",
       "      <td>0.3</td>\n",
       "      <td>290.0</td>\n",
       "      <td>49.0</td>\n",
       "      <td>0.2385</td>\n",
       "    </tr>\n",
       "    <tr>\n",
       "      <th>78</th>\n",
       "      <td>44.0</td>\n",
       "      <td>0.142</td>\n",
       "      <td>0.3</td>\n",
       "      <td>290.0</td>\n",
       "      <td>49.0</td>\n",
       "      <td>0.2205</td>\n",
       "    </tr>\n",
       "    <tr>\n",
       "      <th>79</th>\n",
       "      <td>44.0</td>\n",
       "      <td>0.142</td>\n",
       "      <td>0.3</td>\n",
       "      <td>290.0</td>\n",
       "      <td>49.0</td>\n",
       "      <td>0.2458</td>\n",
       "    </tr>\n",
       "    <tr>\n",
       "      <th>80</th>\n",
       "      <td>27.0</td>\n",
       "      <td>0.153</td>\n",
       "      <td>0.3</td>\n",
       "      <td>190.0</td>\n",
       "      <td>45.0</td>\n",
       "      <td>0.0981</td>\n",
       "    </tr>\n",
       "    <tr>\n",
       "      <th>81</th>\n",
       "      <td>42.8</td>\n",
       "      <td>0.170</td>\n",
       "      <td>0.2</td>\n",
       "      <td>290.0</td>\n",
       "      <td>47.0</td>\n",
       "      <td>0.4271</td>\n",
       "    </tr>\n",
       "    <tr>\n",
       "      <th>82</th>\n",
       "      <td>67.0</td>\n",
       "      <td>0.153</td>\n",
       "      <td>0.2</td>\n",
       "      <td>480.0</td>\n",
       "      <td>44.0</td>\n",
       "      <td>0.241</td>\n",
       "    </tr>\n",
       "    <tr>\n",
       "      <th>83</th>\n",
       "      <td>27.0</td>\n",
       "      <td>0.170</td>\n",
       "      <td>0.5</td>\n",
       "      <td>190.0</td>\n",
       "      <td>43.5</td>\n",
       "      <td>0.4861</td>\n",
       "    </tr>\n",
       "    <tr>\n",
       "      <th>84</th>\n",
       "      <td>38.0</td>\n",
       "      <td>0.220</td>\n",
       "      <td>0.2</td>\n",
       "      <td>290.0</td>\n",
       "      <td>42.0</td>\n",
       "      <td>0.2767</td>\n",
       "    </tr>\n",
       "  </tbody>\n",
       "</table>\n",
       "</div>"
      ],
      "text/plain": [
       "    Cutting Speed (m/min)  Feed (mm/rec)  Depth of cut (mm)    RPM  \\\n",
       "72                   40.6          0.142                0.7  290.0   \n",
       "73                   45.0          0.166                0.3  290.0   \n",
       "74                   44.0          0.170                0.5  290.0   \n",
       "75                   55.0          0.142                0.5  290.0   \n",
       "76                   50.0          0.150                0.5  290.0   \n",
       "77                   44.0          0.142                0.3  290.0   \n",
       "78                   44.0          0.142                0.3  290.0   \n",
       "79                   44.0          0.142                0.3  290.0   \n",
       "80                   27.0          0.153                0.3  190.0   \n",
       "81                   42.8          0.170                0.2  290.0   \n",
       "82                   67.0          0.153                0.2  480.0   \n",
       "83                   27.0          0.170                0.5  190.0   \n",
       "84                   38.0          0.220                0.2  290.0   \n",
       "\n",
       "    Diameter(mm) Slope of the line  \n",
       "72          45.0            0.2912  \n",
       "73          50.0            0.1392  \n",
       "74          48.0            0.3458  \n",
       "75          60.0            0.1642  \n",
       "76          55.0            0.1449  \n",
       "77          49.0            0.2385  \n",
       "78          49.0            0.2205  \n",
       "79          49.0            0.2458  \n",
       "80          45.0            0.0981  \n",
       "81          47.0            0.4271  \n",
       "82          44.0             0.241  \n",
       "83          43.5            0.4861  \n",
       "84          42.0            0.2767  "
      ]
     },
     "execution_count": 9,
     "metadata": {},
     "output_type": "execute_result"
    }
   ],
   "source": [
    "df = read_preprocess2(\"/home/rishabhgarg/Documents/FSM_ML/Experimental Runs.xlsx\")\n",
    "df"
   ]
  },
  {
   "cell_type": "code",
   "execution_count": 10,
   "metadata": {},
   "outputs": [],
   "source": [
    "#initializing the model\n",
    "from sklearn.model_selection import train_test_split\n",
    "X = df.iloc[:, 0:5]\n",
    "y = df[\"Slope of the line\"]\n",
    "# from sklearn.preprocessing import MinMaxScaler\n",
    "# scaler = MinMaxScaler()\n",
    "X_train, X_test, y_train, y_test = train_test_split(X, y, test_size = 0.20)\n",
    "# y_train = y_train.astype('float')\n",
    "# X_train_scaled = scaler.fit_transform(X_train)\n",
    "# X_test_scaled = scaler.transform(X_test)"
   ]
  },
  {
   "cell_type": "code",
   "execution_count": 11,
   "metadata": {},
   "outputs": [
    {
     "data": {
      "text/plain": [
       "SVR(kernel='poly')"
      ]
     },
     "execution_count": 11,
     "metadata": {},
     "output_type": "execute_result"
    }
   ],
   "source": [
    "#training the model\n",
    "from sklearn.svm import SVR\n",
    "regressor = SVR(kernel = 'poly', degree=3)\n",
    "regressor.fit(X_train, y_train)"
   ]
  },
  {
   "cell_type": "code",
   "execution_count": 12,
   "metadata": {},
   "outputs": [],
   "source": [
    "#testing the model\n",
    "y_predict = regressor.predict(X_test)\n",
    "# y_predict = y_predict.reshape(-1, 1)\n",
    "# y_hat = scaler.inverse_transform(y_predict)"
   ]
  },
  {
   "cell_type": "code",
   "execution_count": 13,
   "metadata": {},
   "outputs": [
    {
     "data": {
      "text/plain": [
       "<matplotlib.collections.PathCollection at 0x7f5392114bb0>"
      ]
     },
     "execution_count": 13,
     "metadata": {},
     "output_type": "execute_result"
    },
    {
     "data": {
      "image/png": "[encoded data removed]",
      "text/plain": [
       "<Figure size 432x288 with 1 Axes>"
      ]
     },
     "metadata": {
      "needs_background": "light"
     },
     "output_type": "display_data"
    }
   ],
   "source": [
    "x_array = list(range(1, 4))\n",
    "plt.scatter(x_array, y_predict)\n",
    "plt.scatter(x_array, y_test)"
   ]
  },
  {
   "cell_type": "code",
   "execution_count": 14,
   "metadata": {},
   "outputs": [
    {
     "data": {
      "text/plain": [
       "['/home/rishabhgarg/Documents/FSM_ML/slope_regressor.pkl']"
      ]
     },
     "execution_count": 14,
     "metadata": {},
     "output_type": "execute_result"
    }
   ],
   "source": [
    "import joblib as joblib\n",
    "joblib.dump(regressor, '/home/rishabhgarg/Documents/FSM_ML/slope_regressor.pkl')"
   ]
  }
 ],
 "metadata": {
  "interpreter": {
   "hash": "df0893f56f349688326838aaeea0de204df53a132722cbd565e54b24a8fec5f6"
  },
  "kernelspec": {
   "display_name": "Python 3",
   "language": "python",
   "name": "python3"
  },
  "language_info": {
   "codemirror_mode": {
    "name": "ipython",
    "version": 3
   },
   "file_extension": ".py",
   "mimetype": "text/x-python",
   "name": "python",
   "nbconvert_exporter": "python",
   "pygments_lexer": "ipython3",
   "version": "3.8.5"
  }
 },
 "nbformat": 4,
 "nbformat_minor": 2
}
