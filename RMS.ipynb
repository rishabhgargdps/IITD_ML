{
 "cells": [
  {
   "cell_type": "code",
   "execution_count": 11,
   "metadata": {},
   "outputs": [],
   "source": [
    "# we extract the data from Experimental runs excel file\n",
    "import pandas as pd\n",
    "import numpy as np\n",
    "import matplotlib.pyplot as plt"
   ]
  },
  {
   "cell_type": "code",
   "execution_count": 12,
   "metadata": {},
   "outputs": [],
   "source": [
    "# preparing the data for SVM cubic regression model\n",
    "def read_preprocess(file):\n",
    "    df = pd.read_excel(file)\n",
    "    pd.set_option('display.max_rows', 15)\n",
    "    df = df.iloc[14:70, :]\n",
    "    df.drop(df.columns[[0, 4, 7, 8, 9, 10, 11, 12]], axis=1, inplace = True)\n",
    "    df.drop(df.loc[:, 'Unnamed: 14':'Unnamed: 15'].columns, axis = 1, inplace = True)\n",
    "    df.rename(columns={'Unnamed: 13': 'RMS(g)'}, inplace = True)\n",
    "    df.dropna(subset = ['RMS(g)'], inplace = True)\n",
    "    return df"
   ]
  },
  {
   "cell_type": "code",
   "execution_count": 13,
   "metadata": {},
   "outputs": [],
   "source": [
    "df = read_preprocess(\"/home/rishabhgarg/Documents/FSM_ML/Experimental Runs.xlsx\")"
   ]
  },
  {
   "cell_type": "code",
   "execution_count": 14,
   "metadata": {},
   "outputs": [
    {
     "data": {
      "text/html": [
       "<div>\n",
       "<style scoped>\n",
       "    .dataframe tbody tr th:only-of-type {\n",
       "        vertical-align: middle;\n",
       "    }\n",
       "\n",
       "    .dataframe tbody tr th {\n",
       "        vertical-align: top;\n",
       "    }\n",
       "\n",
       "    .dataframe thead th {\n",
       "        text-align: right;\n",
       "    }\n",
       "</style>\n",
       "<table border=\"1\" class=\"dataframe\">\n",
       "  <thead>\n",
       "    <tr style=\"text-align: right;\">\n",
       "      <th></th>\n",
       "      <th>Cutting Speed (m/min)</th>\n",
       "      <th>Feed (mm/rec)</th>\n",
       "      <th>Depth of cut (mm)</th>\n",
       "      <th>RPM</th>\n",
       "      <th>Diameter(mm)</th>\n",
       "      <th>RMS(g)</th>\n",
       "    </tr>\n",
       "  </thead>\n",
       "  <tbody>\n",
       "    <tr>\n",
       "      <th>14</th>\n",
       "      <td>130.0</td>\n",
       "      <td>0.15</td>\n",
       "      <td>1.0</td>\n",
       "      <td>700.0</td>\n",
       "      <td>60.0</td>\n",
       "      <td>-71.205</td>\n",
       "    </tr>\n",
       "    <tr>\n",
       "      <th>15</th>\n",
       "      <td>130.0</td>\n",
       "      <td>0.15</td>\n",
       "      <td>0.8</td>\n",
       "      <td>700.0</td>\n",
       "      <td>60.0</td>\n",
       "      <td>-68.996</td>\n",
       "    </tr>\n",
       "    <tr>\n",
       "      <th>16</th>\n",
       "      <td>130.0</td>\n",
       "      <td>0.35</td>\n",
       "      <td>0.6</td>\n",
       "      <td>700.0</td>\n",
       "      <td>60.0</td>\n",
       "      <td>-58.263</td>\n",
       "    </tr>\n",
       "    <tr>\n",
       "      <th>17</th>\n",
       "      <td>130.0</td>\n",
       "      <td>0.45</td>\n",
       "      <td>0.4</td>\n",
       "      <td>700.0</td>\n",
       "      <td>60.0</td>\n",
       "      <td>-46.829</td>\n",
       "    </tr>\n",
       "    <tr>\n",
       "      <th>18</th>\n",
       "      <td>130.0</td>\n",
       "      <td>0.55</td>\n",
       "      <td>0.2</td>\n",
       "      <td>700.0</td>\n",
       "      <td>60.0</td>\n",
       "      <td>-46.6674</td>\n",
       "    </tr>\n",
       "    <tr>\n",
       "      <th>...</th>\n",
       "      <td>...</td>\n",
       "      <td>...</td>\n",
       "      <td>...</td>\n",
       "      <td>...</td>\n",
       "      <td>...</td>\n",
       "      <td>...</td>\n",
       "    </tr>\n",
       "    <tr>\n",
       "      <th>65</th>\n",
       "      <td>35.0</td>\n",
       "      <td>0.22</td>\n",
       "      <td>0.4</td>\n",
       "      <td>290.0</td>\n",
       "      <td>38.0</td>\n",
       "      <td>-30.7152</td>\n",
       "    </tr>\n",
       "    <tr>\n",
       "      <th>66</th>\n",
       "      <td>35.0</td>\n",
       "      <td>0.16</td>\n",
       "      <td>0.6</td>\n",
       "      <td>290.0</td>\n",
       "      <td>38.0</td>\n",
       "      <td>-36.539</td>\n",
       "    </tr>\n",
       "    <tr>\n",
       "      <th>67</th>\n",
       "      <td>27.0</td>\n",
       "      <td>0.30</td>\n",
       "      <td>0.4</td>\n",
       "      <td>290.0</td>\n",
       "      <td>30.0</td>\n",
       "      <td>-13.214</td>\n",
       "    </tr>\n",
       "    <tr>\n",
       "      <th>68</th>\n",
       "      <td>27.0</td>\n",
       "      <td>0.22</td>\n",
       "      <td>0.6</td>\n",
       "      <td>290.0</td>\n",
       "      <td>30.0</td>\n",
       "      <td>-15.326</td>\n",
       "    </tr>\n",
       "    <tr>\n",
       "      <th>69</th>\n",
       "      <td>27.0</td>\n",
       "      <td>0.16</td>\n",
       "      <td>0.8</td>\n",
       "      <td>290.0</td>\n",
       "      <td>30.0</td>\n",
       "      <td>-14.774</td>\n",
       "    </tr>\n",
       "  </tbody>\n",
       "</table>\n",
       "<p>55 rows × 6 columns</p>\n",
       "</div>"
      ],
      "text/plain": [
       "    Cutting Speed (m/min)  Feed (mm/rec)  Depth of cut (mm)    RPM  \\\n",
       "14                  130.0           0.15                1.0  700.0   \n",
       "15                  130.0           0.15                0.8  700.0   \n",
       "16                  130.0           0.35                0.6  700.0   \n",
       "17                  130.0           0.45                0.4  700.0   \n",
       "18                  130.0           0.55                0.2  700.0   \n",
       "..                    ...            ...                ...    ...   \n",
       "65                   35.0           0.22                0.4  290.0   \n",
       "66                   35.0           0.16                0.6  290.0   \n",
       "67                   27.0           0.30                0.4  290.0   \n",
       "68                   27.0           0.22                0.6  290.0   \n",
       "69                   27.0           0.16                0.8  290.0   \n",
       "\n",
       "    Diameter(mm)   RMS(g)  \n",
       "14          60.0  -71.205  \n",
       "15          60.0  -68.996  \n",
       "16          60.0  -58.263  \n",
       "17          60.0  -46.829  \n",
       "18          60.0 -46.6674  \n",
       "..           ...      ...  \n",
       "65          38.0 -30.7152  \n",
       "66          38.0  -36.539  \n",
       "67          30.0  -13.214  \n",
       "68          30.0  -15.326  \n",
       "69          30.0  -14.774  \n",
       "\n",
       "[55 rows x 6 columns]"
      ]
     },
     "execution_count": 14,
     "metadata": {},
     "output_type": "execute_result"
    }
   ],
   "source": [
    "df"
   ]
  },
  {
   "cell_type": "code",
   "execution_count": 15,
   "metadata": {},
   "outputs": [],
   "source": [
    "#initializing the model\n",
    "from sklearn.model_selection import train_test_split\n",
    "X = df.iloc[:, 0:5]\n",
    "y = df[\"RMS(g)\"]\n",
    "# from sklearn.preprocessing import MinMaxScaler\n",
    "# scaler = MinMaxScaler()\n",
    "X_train, X_test, y_train, y_test = train_test_split(X, y, test_size = 0.20)\n",
    "# X_train_scaled = scaler.fit_transform(X_train)\n",
    "# X_test_scaled = scaler.transform(X_test)"
   ]
  },
  {
   "cell_type": "code",
   "execution_count": 16,
   "metadata": {},
   "outputs": [
    {
     "data": {
      "text/plain": [
       "SVR(kernel='poly')"
      ]
     },
     "execution_count": 16,
     "metadata": {},
     "output_type": "execute_result"
    }
   ],
   "source": [
    "#training the model\n",
    "from sklearn.svm import SVR\n",
    "regressor = SVR(kernel = 'poly', degree=3)\n",
    "regressor.fit(X_train, y_train)"
   ]
  },
  {
   "cell_type": "code",
   "execution_count": 17,
   "metadata": {},
   "outputs": [],
   "source": [
    "#testing the model\n",
    "y_predict = regressor.predict(X_test)\n",
    "# y_predict = y_predict.reshape(-1, 1)\n",
    "# y_hat = scaler.inverse_transform(y_predict)"
   ]
  },
  {
   "cell_type": "code",
   "execution_count": 18,
   "metadata": {},
   "outputs": [
    {
     "data": {
      "text/plain": [
       "<matplotlib.collections.PathCollection at 0x7f56e16d8340>"
      ]
     },
     "execution_count": 18,
     "metadata": {},
     "output_type": "execute_result"
    },
    {
     "data": {
      "image/png": "[encoded data removed]",
      "text/plain": [
       "<Figure size 432x288 with 1 Axes>"
      ]
     },
     "metadata": {
      "needs_background": "light"
     },
     "output_type": "display_data"
    }
   ],
   "source": [
    "x_array = list(range(1, 12))\n",
    "plt.scatter(x_array, y_predict)\n",
    "plt.scatter(x_array, y_test)"
   ]
  },
  {
   "cell_type": "code",
   "execution_count": 19,
   "metadata": {},
   "outputs": [
    {
     "data": {
      "text/plain": [
       "['/home/rishabhgarg/Documents/FSM_ML/rms_regressor.pkl']"
      ]
     },
     "execution_count": 19,
     "metadata": {},
     "output_type": "execute_result"
    }
   ],
   "source": [
    "import joblib as joblib\n",
    "joblib.dump(regressor, '/home/rishabhgarg/Documents/FSM_ML/rms_regressor.pkl', protocol=2)"
   ]
  }
 ],
 "metadata": {
  "kernelspec": {
   "display_name": "Python 3",
   "language": "python",
   "name": "python3"
  },
  "language_info": {
   "codemirror_mode": {
    "name": "ipython",
    "version": 3
   },
   "file_extension": ".py",
   "mimetype": "text/x-python",
   "name": "python",
   "nbconvert_exporter": "python",
   "pygments_lexer": "ipython3",
   "version": "3.8.5"
  }
 },
 "nbformat": 4,
 "nbformat_minor": 4
}