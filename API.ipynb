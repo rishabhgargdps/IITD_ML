{
 "cells": [
  {
   "cell_type": "code",
   "execution_count": 1,
   "metadata": {},
   "outputs": [],
   "source": [
    "import flask\n",
    "import io\n",
    "import string\n",
    "import time\n",
    "import os\n",
    "import pandas as pd\n",
    "import numpy as np\n",
    "from flask import Flask, jsonify, request\n",
    "import joblib as joblib\n",
    "import json"
   ]
  },
  {
   "cell_type": "code",
   "execution_count": 2,
   "metadata": {},
   "outputs": [],
   "source": [
    "def read_preprocess(file):\n",
    "    df = pd.read_excel(file)\n",
    "    pd.set_option('display.max_rows', 15)\n",
    "    df = df.iloc[14:70, :]\n",
    "    df.drop(df.columns[[0, 4, 7, 8, 9, 10, 11, 12]], axis=1, inplace = True)\n",
    "    df.drop(df.loc[:, 'Unnamed: 14':'Unnamed: 15'].columns, axis = 1, inplace = True)\n",
    "    df.rename(columns={'Unnamed: 13': 'RMS(g)'}, inplace = True)\n",
    "    df.dropna(subset = ['RMS(g)'], inplace = True)\n",
    "    return df\n",
    "\n",
    "def read_preprocess2(file):\n",
    "    df = pd.read_excel(file)\n",
    "    pd.set_option('display.max_rows', 15)\n",
    "    df = df.iloc[72:85, :]\n",
    "    df.drop(df.columns[[0, 4, 8, 9, 10, 11, 12]], axis=1, inplace=True)\n",
    "    df.drop(df.loc[:, 'Unnamed: 13':'Unnamed: 15'].columns, axis = 1, inplace = True)\n",
    "    df.rename(columns={'RMS': 'Slope of the line'}, inplace=True)\n",
    "    return df"
   ]
  },
  {
   "cell_type": "code",
   "execution_count": 3,
   "metadata": {},
   "outputs": [],
   "source": [
    "def predict(file, X_test):\n",
    "    regressor = joblib.load(file) \n",
    "    y_predict = regressor.predict(X_test)\n",
    "    return y_predict\n",
    "\n",
    "def predict2(file, X_test):\n",
    "    regressor2 = joblib.load(file)\n",
    "    y_predict = regressor2.predict(X_test)\n",
    "    return y_predict"
   ]
  },
  {
   "cell_type": "code",
   "execution_count": 4,
   "metadata": {},
   "outputs": [],
   "source": [
    "app = Flask(__name__)"
   ]
  },
  {
   "cell_type": "code",
   "execution_count": 5,
   "metadata": {},
   "outputs": [],
   "source": [
    "@app.route('/predict_rms', methods=['POST'])\n",
    "def infer_image():\n",
    "    # Catch the csv file from a POST request\n",
    "    \n",
    "    file_array = request.files.getlist(\"file[]\")\n",
    "\n",
    "    # Read and preprocess the csv file\n",
    "    df = read_preprocess(file_array[0])\n",
    "\n",
    "    # Return the prediction in JSON format\n",
    "    X_test = df.iloc[:, 0:5]\n",
    "    prediction = predict(file_array[1], X_test)\n",
    "    lists = prediction.tolist()\n",
    "    json_str = json.dumps(lists)\n",
    "    return json_str\n",
    "\n",
    "@app.route('/predict_slope', methods=['POST'])\n",
    "def infer_image2():\n",
    "    # Catch the csv file from a POST request\n",
    "    \n",
    "    file_array = request.files.getlist(\"file[]\")\n",
    "\n",
    "    # Read and preprocess the csv file\n",
    "    df2 = read_preprocess2(file_array[0])\n",
    "\n",
    "    # Return the prediction in JSON format\n",
    "    X_test2 = df2.iloc[:, 0:5]\n",
    "    prediction2 = predict2(file_array[1], X_test2)\n",
    "    lists2 = prediction2.tolist()\n",
    "    json_str2 = json.dumps(lists2)\n",
    "    return json_str2\n",
    "    \n",
    "\n",
    "@app.route('/', methods=['GET'])\n",
    "def index():\n",
    "    return 'Machine Learning Inference'"
   ]
  },
  {
   "cell_type": "code",
   "execution_count": 6,
   "metadata": {},
   "outputs": [
    {
     "name": "stdout",
     "output_type": "stream",
     "text": [
      " * Serving Flask app '__main__' (lazy loading)\n",
      " * Environment: production\n",
      "\u001b[31m   WARNING: This is a development server. Do not use it in a production deployment.\u001b[0m\n",
      "\u001b[2m   Use a production WSGI server instead.\u001b[0m\n",
      " * Debug mode: off\n"
     ]
    },
    {
     "name": "stderr",
     "output_type": "stream",
     "text": [
      " * Running on all addresses.\n",
      "   WARNING: This is a development server. Do not use it in a production deployment.\n",
      " * Running on http://192.168.43.242:5000/ (Press CTRL+C to quit)\n",
      "192.168.43.242 - - [12/Jul/2021 21:29:39] \"GET / HTTP/1.1\" 200 -\n",
      "[2021-07-12 21:29:58,872] ERROR in app: Exception on /predict_rms [POST]\n",
      "Traceback (most recent call last):\n",
      "  File \"/home/rishabhgarg/.local/lib/python3.8/site-packages/flask/app.py\", line 2070, in wsgi_app\n",
      "    response = self.full_dispatch_request()\n",
      "  File \"/home/rishabhgarg/.local/lib/python3.8/site-packages/flask/app.py\", line 1515, in full_dispatch_request\n",
      "    rv = self.handle_user_exception(e)\n",
      "  File \"/home/rishabhgarg/.local/lib/python3.8/site-packages/flask/app.py\", line 1513, in full_dispatch_request\n",
      "    rv = self.dispatch_request()\n",
      "  File \"/home/rishabhgarg/.local/lib/python3.8/site-packages/flask/app.py\", line 1499, in dispatch_request\n",
      "    return self.ensure_sync(self.view_functions[rule.endpoint])(**req.view_args)\n",
      "  File \"<ipython-input-5-d747f7b78034>\", line 8, in infer_image\n",
      "    df = read_preprocess(file_array[0])\n",
      "IndexError: list index out of range\n",
      "192.168.43.242 - - [12/Jul/2021 21:29:59] \"POST /predict_rms HTTP/1.1\" 500 -\n",
      "192.168.43.242 - - [12/Jul/2021 21:33:20] \"GET / HTTP/1.1\" 200 -\n",
      "192.168.43.242 - - [12/Jul/2021 21:33:31] \"POST /predict_rms HTTP/1.1\" 200 -\n",
      "192.168.43.242 - - [12/Jul/2021 21:33:50] \"POST /predict_rms HTTP/1.1\" 200 -\n"
     ]
    }
   ],
   "source": [
    "if __name__ == '__main__':\n",
    "    app.run(debug=False, host='0.0.0.0')"
   ]
  },
  {
   "cell_type": "code",
   "execution_count": null,
   "metadata": {},
   "outputs": [],
   "source": []
  }
 ],
 "metadata": {
  "kernelspec": {
   "display_name": "Python 3",
   "language": "python",
   "name": "python3"
  },
  "language_info": {
   "codemirror_mode": {
    "name": "ipython",
    "version": 3
   },
   "file_extension": ".py",
   "mimetype": "text/x-python",
   "name": "python",
   "nbconvert_exporter": "python",
   "pygments_lexer": "ipython3",
   "version": "3.8.5"
  }
 },
 "nbformat": 4,
 "nbformat_minor": 4
}
